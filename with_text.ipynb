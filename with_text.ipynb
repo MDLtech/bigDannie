{
 "cells": [
  {
   "cell_type": "code",
   "execution_count": 58,
   "metadata": {
    "collapsed": true,
    "ExecuteTime": {
     "end_time": "2023-12-19T14:23:38.634843200Z",
     "start_time": "2023-12-19T14:23:29.337921500Z"
    }
   },
   "outputs": [],
   "source": [
    "import os\n",
    "import json\n",
    "import pprint\n",
    "def list_files_and_folders(directory):\n",
    "    # Получаем список всех элементов в указанной директории\n",
    "    all_items = os.listdir(directory)\n",
    "    # Разделяем элементы на папки и файлы\n",
    "    folders = [item for item in all_items if os.path.isdir(os.path.join(directory, item))]\n",
    "    files = [item for item in all_items if os.path.isfile(os.path.join(directory, item))]\n",
    "\n",
    "    return folders, files\n",
    "\n",
    "x=\"vake/-28905875/\"\n",
    "\n",
    "comments=[]\n",
    "for j_name in list_files_and_folders(\"vake/-28905875\")[1]:\n",
    "    with open(x + j_name, 'r') as fl:\n",
    "        jsn = json.load(fl)\n",
    "        for coms in jsn['comments']:\n",
    "            comments.append([coms['from_id'],coms['text'],coms['date'],jsn['id'],coms['user']])\n"
   ]
  },
  {
   "cell_type": "code",
   "execution_count": 6,
   "outputs": [],
   "source": [
    "import pandas as pd\n"
   ],
   "metadata": {
    "collapsed": false,
    "ExecuteTime": {
     "end_time": "2023-12-18T16:23:19.272500200Z",
     "start_time": "2023-12-18T16:23:16.278533700Z"
    }
   }
  },
  {
   "cell_type": "code",
   "execution_count": 59,
   "outputs": [],
   "source": [
    "df=pd.DataFrame(comments,columns=['vk_id','text','date','comment_id','json_user'])\n",
    "df = df.query('vk_id >= 1')\n"
   ],
   "metadata": {
    "collapsed": false,
    "ExecuteTime": {
     "end_time": "2023-12-19T14:23:45.922737400Z",
     "start_time": "2023-12-19T14:23:45.895141Z"
    }
   }
  },
  {
   "cell_type": "code",
   "execution_count": 34,
   "outputs": [
    {
     "name": "stderr",
     "output_type": "stream",
     "text": [
      "[nltk_data] Downloading package stopwords to\n",
      "[nltk_data]     C:\\Users\\user\\AppData\\Roaming\\nltk_data...\n",
      "[nltk_data]   Package stopwords is already up-to-date!\n"
     ]
    },
    {
     "data": {
      "text/plain": "True"
     },
     "execution_count": 34,
     "metadata": {},
     "output_type": "execute_result"
    }
   ],
   "source": [
    "import nltk\n",
    "from nltk.corpus import stopwords\n",
    "from nltk.stem import WordNetLemmatizer\n",
    "import string\n",
    "import re\n",
    "nltk.download('stopwords')"
   ],
   "metadata": {
    "collapsed": false,
    "ExecuteTime": {
     "end_time": "2023-12-18T21:07:04.806799600Z",
     "start_time": "2023-12-18T21:07:04.782887Z"
    }
   }
  },
  {
   "cell_type": "code",
   "execution_count": 32,
   "outputs": [],
   "source": [
    "def preprocess_text(text):\n",
    "    # Преобразование текста в нижний регистр\n",
    "    text = text.lower()\n",
    "\n",
    "    # Удаление знаков пунктуации\n",
    "    text = text.translate(str.maketrans(\"\", \"\", string.punctuation))\n",
    "\n",
    "    return text\n",
    "def remove_id_mentions(text):\n",
    "    return re.sub(r'\\[id\\d+', '', text)\n",
    "\n",
    "def lemmatize_text(text):\n",
    "    lemmatizer = WordNetLemmatizer()\n",
    "    return ' '.join([lemmatizer.lemmatize(word) for word in text.split()])\n",
    "\n",
    "def remove_stopwords(text):\n",
    "    stop_words = set(stopwords.words('russian'))  # Замените на язык вашего текста\n",
    "    return ' '.join([word for word in text.split() if word not in stop_words])"
   ],
   "metadata": {
    "collapsed": false,
    "ExecuteTime": {
     "end_time": "2023-12-18T21:06:47.477601900Z",
     "start_time": "2023-12-18T21:06:47.450906Z"
    }
   }
  },
  {
   "cell_type": "code",
   "execution_count": 60,
   "outputs": [],
   "source": [
    "df['text'] = df['text'].apply(remove_id_mentions)\n"
   ],
   "metadata": {
    "collapsed": false,
    "ExecuteTime": {
     "end_time": "2023-12-19T14:24:12.449623Z",
     "start_time": "2023-12-19T14:24:12.424781700Z"
    }
   }
  },
  {
   "cell_type": "code",
   "execution_count": 61,
   "outputs": [],
   "source": [
    "\n",
    "# Предобработка текста\n",
    "df['text'] = df['text'].apply(preprocess_text)\n",
    "\n",
    "# Лемматизация\n",
    "df['text'] = df['text'].apply(lemmatize_text)\n",
    "\n",
    "# Удаление стоп-слов\n",
    "df['text'] = df['text'].apply(remove_stopwords)"
   ],
   "metadata": {
    "collapsed": false,
    "ExecuteTime": {
     "end_time": "2023-12-19T14:24:19.633864400Z",
     "start_time": "2023-12-19T14:24:15.615571600Z"
    }
   }
  },
  {
   "cell_type": "code",
   "execution_count": 62,
   "outputs": [
    {
     "data": {
      "text/plain": "           vk_id                                               text  \\\n0      428568547                                                      \n1      645677974                                               боже   \n2      434832758                                 буду отсутствовать   \n3      704690916                         равшан джамшута идёт нахуй   \n4      607281128  нагано баста баста слишком серьезн дерьма заня...   \n...          ...                                                ...   \n12846  814540656                            ярослав твоей мамки ног   \n12847  150351110   адольф подошёл спросил говорит остались твои усы   \n12848  745304675                             дмитрий зналчто пропал   \n12849  808831810                               вадим бегал кайфовал   \n12850  239515851                                 николай пахахахаха   \n\n             date  comment_id  \\\n0      1702493407    32937664   \n1      1702493419    32937664   \n2      1702493513    32937664   \n3      1702493519    32937664   \n4      1702493666    32937664   \n...           ...         ...   \n12846  1702843964    32962141   \n12847  1702844042    32962141   \n12848  1702844282    32962141   \n12849  1702844309    32962141   \n12850  1702849137    32962141   \n\n                                               json_user  \n0      {'id': 428568547, 'first_name': 'Даниил', 'las...  \n1      {'id': 645677974, 'first_name': 'Erik', 'last_...  \n2      {'id': 434832758, 'bdate': '21.5.2000', 'city'...  \n3      {'id': 704690916, 'bdate': '12.3', 'first_name...  \n4      {'id': 607281128, 'bdate': '8.5.2000', 'first_...  \n...                                                  ...  \n12846  {'id': 814540656, 'first_name': 'Адольф', 'las...  \n12847  {'id': 150351110, 'bdate': '10.7.1999', 'city'...  \n12848  {'id': 745304675, 'bdate': '15.11', 'city': {'...  \n12849  {'id': 808831810, 'bdate': '17.8.1993', 'first...  \n12850  {'id': 239515851, 'bdate': '6.9', 'city': {'id...  \n\n[12683 rows x 5 columns]",
      "text/html": "<div>\n<style scoped>\n    .dataframe tbody tr th:only-of-type {\n        vertical-align: middle;\n    }\n\n    .dataframe tbody tr th {\n        vertical-align: top;\n    }\n\n    .dataframe thead th {\n        text-align: right;\n    }\n</style>\n<table border=\"1\" class=\"dataframe\">\n  <thead>\n    <tr style=\"text-align: right;\">\n      <th></th>\n      <th>vk_id</th>\n      <th>text</th>\n      <th>date</th>\n      <th>comment_id</th>\n      <th>json_user</th>\n    </tr>\n  </thead>\n  <tbody>\n    <tr>\n      <th>0</th>\n      <td>428568547</td>\n      <td></td>\n      <td>1702493407</td>\n      <td>32937664</td>\n      <td>{'id': 428568547, 'first_name': 'Даниил', 'las...</td>\n    </tr>\n    <tr>\n      <th>1</th>\n      <td>645677974</td>\n      <td>боже</td>\n      <td>1702493419</td>\n      <td>32937664</td>\n      <td>{'id': 645677974, 'first_name': 'Erik', 'last_...</td>\n    </tr>\n    <tr>\n      <th>2</th>\n      <td>434832758</td>\n      <td>буду отсутствовать</td>\n      <td>1702493513</td>\n      <td>32937664</td>\n      <td>{'id': 434832758, 'bdate': '21.5.2000', 'city'...</td>\n    </tr>\n    <tr>\n      <th>3</th>\n      <td>704690916</td>\n      <td>равшан джамшута идёт нахуй</td>\n      <td>1702493519</td>\n      <td>32937664</td>\n      <td>{'id': 704690916, 'bdate': '12.3', 'first_name...</td>\n    </tr>\n    <tr>\n      <th>4</th>\n      <td>607281128</td>\n      <td>нагано баста баста слишком серьезн дерьма заня...</td>\n      <td>1702493666</td>\n      <td>32937664</td>\n      <td>{'id': 607281128, 'bdate': '8.5.2000', 'first_...</td>\n    </tr>\n    <tr>\n      <th>...</th>\n      <td>...</td>\n      <td>...</td>\n      <td>...</td>\n      <td>...</td>\n      <td>...</td>\n    </tr>\n    <tr>\n      <th>12846</th>\n      <td>814540656</td>\n      <td>ярослав твоей мамки ног</td>\n      <td>1702843964</td>\n      <td>32962141</td>\n      <td>{'id': 814540656, 'first_name': 'Адольф', 'las...</td>\n    </tr>\n    <tr>\n      <th>12847</th>\n      <td>150351110</td>\n      <td>адольф подошёл спросил говорит остались твои усы</td>\n      <td>1702844042</td>\n      <td>32962141</td>\n      <td>{'id': 150351110, 'bdate': '10.7.1999', 'city'...</td>\n    </tr>\n    <tr>\n      <th>12848</th>\n      <td>745304675</td>\n      <td>дмитрий зналчто пропал</td>\n      <td>1702844282</td>\n      <td>32962141</td>\n      <td>{'id': 745304675, 'bdate': '15.11', 'city': {'...</td>\n    </tr>\n    <tr>\n      <th>12849</th>\n      <td>808831810</td>\n      <td>вадим бегал кайфовал</td>\n      <td>1702844309</td>\n      <td>32962141</td>\n      <td>{'id': 808831810, 'bdate': '17.8.1993', 'first...</td>\n    </tr>\n    <tr>\n      <th>12850</th>\n      <td>239515851</td>\n      <td>николай пахахахаха</td>\n      <td>1702849137</td>\n      <td>32962141</td>\n      <td>{'id': 239515851, 'bdate': '6.9', 'city': {'id...</td>\n    </tr>\n  </tbody>\n</table>\n<p>12683 rows × 5 columns</p>\n</div>"
     },
     "execution_count": 62,
     "metadata": {},
     "output_type": "execute_result"
    }
   ],
   "source": [
    "df"
   ],
   "metadata": {
    "collapsed": false,
    "ExecuteTime": {
     "end_time": "2023-12-19T14:24:26.110872500Z",
     "start_time": "2023-12-19T14:24:26.082931600Z"
    }
   }
  },
  {
   "cell_type": "code",
   "execution_count": 63,
   "outputs": [
    {
     "name": "stderr",
     "output_type": "stream",
     "text": [
      "[nltk_data] Downloading package vader_lexicon to\n",
      "[nltk_data]     C:\\Users\\user\\AppData\\Roaming\\nltk_data...\n",
      "[nltk_data]   Package vader_lexicon is already up-to-date!\n"
     ]
    }
   ],
   "source": [
    "from nltk.sentiment import SentimentIntensityAnalyzer\n",
    "nltk.download('vader_lexicon')\n",
    "# Создаем экземпляр анализатора сентимента\n",
    "sia = SentimentIntensityAnalyzer()\n",
    "\n",
    "# Функция для определения тональности текста\n",
    "def analyze_sentiment(text):\n",
    "    sentiment_scores = sia.polarity_scores(text)\n",
    "    compound_score = sentiment_scores['compound']\n",
    "\n",
    "    if compound_score >= 0.05:\n",
    "        return 'Позитивный'\n",
    "    elif compound_score <= -0.05:\n",
    "        return 'Негативный'\n",
    "    else:\n",
    "        return 'Нейтральный'\n",
    "\n",
    "# Применение функции к столбцу 'text'\n",
    "df['sentiment'] = df['text'].apply(analyze_sentiment)\n",
    "\n",
    "# Вывод DataFrame с добавленным столбцом 'sentiment'\n"
   ],
   "metadata": {
    "collapsed": false,
    "ExecuteTime": {
     "end_time": "2023-12-19T14:24:42.362618100Z",
     "start_time": "2023-12-19T14:24:41.263983700Z"
    }
   }
  },
  {
   "cell_type": "code",
   "execution_count": 64,
   "outputs": [
    {
     "name": "stdout",
     "output_type": "stream",
     "text": [
      "sentiment\n",
      "Нейтральный    12608\n",
      "Негативный        43\n",
      "Позитивный        32\n",
      "Name: count, dtype: int64\n"
     ]
    }
   ],
   "source": [
    "# Подсчет уникальных значений в столбце 'sentiment'\n",
    "sentiment_counts = df['sentiment'].value_counts()\n",
    "\n",
    "# Вывод статистики\n",
    "print(sentiment_counts)"
   ],
   "metadata": {
    "collapsed": false,
    "ExecuteTime": {
     "end_time": "2023-12-19T14:24:47.532568200Z",
     "start_time": "2023-12-19T14:24:47.507508200Z"
    }
   }
  },
  {
   "cell_type": "code",
   "execution_count": null,
   "outputs": [],
   "source": [],
   "metadata": {
    "collapsed": false
   }
  },
  {
   "cell_type": "code",
   "execution_count": 65,
   "outputs": [
    {
     "name": "stderr",
     "output_type": "stream",
     "text": [
      "[nltk_data] Downloading package punkt to\n",
      "[nltk_data]     C:\\Users\\user\\AppData\\Roaming\\nltk_data...\n",
      "[nltk_data]   Package punkt is already up-to-date!\n"
     ]
    },
    {
     "name": "stdout",
     "output_type": "stream",
     "text": [
      "Частота упоминания слов:\n",
      "это: 1307\n",
      "слово: 301\n",
      "просто: 263\n",
      "пацана: 231\n",
      "админ: 213\n",
      "сериал: 199\n",
      "ещё: 194\n",
      "че: 193\n",
      "вообще: 181\n",
      "андрей: 176\n",
      "олег: 150\n",
      "всё: 149\n",
      "александр: 148\n",
      "8: 147\n",
      "тебе: 144\n",
      "нахуй: 138\n",
      "почему: 132\n",
      "похуй: 129\n",
      "сергей: 124\n",
      "2: 117\n"
     ]
    }
   ],
   "source": [
    "\n",
    "from nltk import FreqDist\n",
    "from nltk.tokenize import word_tokenize\n",
    "nltk.download('punkt')\n",
    "\n",
    "# Токенизация и подсчет частоты упоминания слов\n",
    "all_words = word_tokenize(\" \".join(df['text']))\n",
    "words_freq = FreqDist(all_words)\n",
    "\n",
    "# Вывод частоты упоминания слов\n",
    "print(\"Частота упоминания слов:\")\n",
    "for word, freq in sorted(words_freq.items(),key=lambda x:-x[1])[:20]:\n",
    "    print(f\"{word}: {freq}\")\n"
   ],
   "metadata": {
    "collapsed": false,
    "ExecuteTime": {
     "end_time": "2023-12-19T14:26:29.860710300Z",
     "start_time": "2023-12-19T14:26:29.536137100Z"
    }
   }
  },
  {
   "cell_type": "code",
   "execution_count": 66,
   "outputs": [],
   "source": [
    "df2=df.copy()"
   ],
   "metadata": {
    "collapsed": false,
    "ExecuteTime": {
     "end_time": "2023-12-19T14:26:39.959324200Z",
     "start_time": "2023-12-19T14:26:39.944065600Z"
    }
   }
  },
  {
   "cell_type": "code",
   "execution_count": 49,
   "outputs": [],
   "source": [
    "import datetime"
   ],
   "metadata": {
    "collapsed": false,
    "ExecuteTime": {
     "end_time": "2023-12-18T21:56:35.614512200Z",
     "start_time": "2023-12-18T21:56:35.609523700Z"
    }
   }
  },
  {
   "cell_type": "code",
   "execution_count": 67,
   "outputs": [
    {
     "data": {
      "text/plain": "           vk_id                                               text  \\\n0      428568547                                                      \n1      645677974                                               боже   \n2      434832758                                 буду отсутствовать   \n3      704690916                         равшан джамшута идёт нахуй   \n4      607281128  нагано баста баста слишком серьезн дерьма заня...   \n...          ...                                                ...   \n12846  814540656                            ярослав твоей мамки ног   \n12847  150351110   адольф подошёл спросил говорит остались твои усы   \n12848  745304675                             дмитрий зналчто пропал   \n12849  808831810                               вадим бегал кайфовал   \n12850  239515851                                 николай пахахахаха   \n\n             date  comment_id  \\\n0      1702493407    32937664   \n1      1702493419    32937664   \n2      1702493513    32937664   \n3      1702493519    32937664   \n4      1702493666    32937664   \n...           ...         ...   \n12846  1702843964    32962141   \n12847  1702844042    32962141   \n12848  1702844282    32962141   \n12849  1702844309    32962141   \n12850  1702849137    32962141   \n\n                                               json_user    sentiment  \\\n0      {'id': 428568547, 'first_name': 'Даниил', 'las...  Нейтральный   \n1      {'id': 645677974, 'first_name': 'Erik', 'last_...  Нейтральный   \n2      {'id': 434832758, 'bdate': '21.5.2000', 'city'...  Нейтральный   \n3      {'id': 704690916, 'bdate': '12.3', 'first_name...  Нейтральный   \n4      {'id': 607281128, 'bdate': '8.5.2000', 'first_...  Нейтральный   \n...                                                  ...          ...   \n12846  {'id': 814540656, 'first_name': 'Адольф', 'las...  Нейтральный   \n12847  {'id': 150351110, 'bdate': '10.7.1999', 'city'...  Нейтральный   \n12848  {'id': 745304675, 'bdate': '15.11', 'city': {'...  Нейтральный   \n12849  {'id': 808831810, 'bdate': '17.8.1993', 'first...  Нейтральный   \n12850  {'id': 239515851, 'bdate': '6.9', 'city': {'id...  Нейтральный   \n\n       datetime  \n0            21  \n1            21  \n2            21  \n3            21  \n4            21  \n...         ...  \n12846        23  \n12847        23  \n12848        23  \n12849        23  \n12850         0  \n\n[12683 rows x 7 columns]",
      "text/html": "<div>\n<style scoped>\n    .dataframe tbody tr th:only-of-type {\n        vertical-align: middle;\n    }\n\n    .dataframe tbody tr th {\n        vertical-align: top;\n    }\n\n    .dataframe thead th {\n        text-align: right;\n    }\n</style>\n<table border=\"1\" class=\"dataframe\">\n  <thead>\n    <tr style=\"text-align: right;\">\n      <th></th>\n      <th>vk_id</th>\n      <th>text</th>\n      <th>date</th>\n      <th>comment_id</th>\n      <th>json_user</th>\n      <th>sentiment</th>\n      <th>datetime</th>\n    </tr>\n  </thead>\n  <tbody>\n    <tr>\n      <th>0</th>\n      <td>428568547</td>\n      <td></td>\n      <td>1702493407</td>\n      <td>32937664</td>\n      <td>{'id': 428568547, 'first_name': 'Даниил', 'las...</td>\n      <td>Нейтральный</td>\n      <td>21</td>\n    </tr>\n    <tr>\n      <th>1</th>\n      <td>645677974</td>\n      <td>боже</td>\n      <td>1702493419</td>\n      <td>32937664</td>\n      <td>{'id': 645677974, 'first_name': 'Erik', 'last_...</td>\n      <td>Нейтральный</td>\n      <td>21</td>\n    </tr>\n    <tr>\n      <th>2</th>\n      <td>434832758</td>\n      <td>буду отсутствовать</td>\n      <td>1702493513</td>\n      <td>32937664</td>\n      <td>{'id': 434832758, 'bdate': '21.5.2000', 'city'...</td>\n      <td>Нейтральный</td>\n      <td>21</td>\n    </tr>\n    <tr>\n      <th>3</th>\n      <td>704690916</td>\n      <td>равшан джамшута идёт нахуй</td>\n      <td>1702493519</td>\n      <td>32937664</td>\n      <td>{'id': 704690916, 'bdate': '12.3', 'first_name...</td>\n      <td>Нейтральный</td>\n      <td>21</td>\n    </tr>\n    <tr>\n      <th>4</th>\n      <td>607281128</td>\n      <td>нагано баста баста слишком серьезн дерьма заня...</td>\n      <td>1702493666</td>\n      <td>32937664</td>\n      <td>{'id': 607281128, 'bdate': '8.5.2000', 'first_...</td>\n      <td>Нейтральный</td>\n      <td>21</td>\n    </tr>\n    <tr>\n      <th>...</th>\n      <td>...</td>\n      <td>...</td>\n      <td>...</td>\n      <td>...</td>\n      <td>...</td>\n      <td>...</td>\n      <td>...</td>\n    </tr>\n    <tr>\n      <th>12846</th>\n      <td>814540656</td>\n      <td>ярослав твоей мамки ног</td>\n      <td>1702843964</td>\n      <td>32962141</td>\n      <td>{'id': 814540656, 'first_name': 'Адольф', 'las...</td>\n      <td>Нейтральный</td>\n      <td>23</td>\n    </tr>\n    <tr>\n      <th>12847</th>\n      <td>150351110</td>\n      <td>адольф подошёл спросил говорит остались твои усы</td>\n      <td>1702844042</td>\n      <td>32962141</td>\n      <td>{'id': 150351110, 'bdate': '10.7.1999', 'city'...</td>\n      <td>Нейтральный</td>\n      <td>23</td>\n    </tr>\n    <tr>\n      <th>12848</th>\n      <td>745304675</td>\n      <td>дмитрий зналчто пропал</td>\n      <td>1702844282</td>\n      <td>32962141</td>\n      <td>{'id': 745304675, 'bdate': '15.11', 'city': {'...</td>\n      <td>Нейтральный</td>\n      <td>23</td>\n    </tr>\n    <tr>\n      <th>12849</th>\n      <td>808831810</td>\n      <td>вадим бегал кайфовал</td>\n      <td>1702844309</td>\n      <td>32962141</td>\n      <td>{'id': 808831810, 'bdate': '17.8.1993', 'first...</td>\n      <td>Нейтральный</td>\n      <td>23</td>\n    </tr>\n    <tr>\n      <th>12850</th>\n      <td>239515851</td>\n      <td>николай пахахахаха</td>\n      <td>1702849137</td>\n      <td>32962141</td>\n      <td>{'id': 239515851, 'bdate': '6.9', 'city': {'id...</td>\n      <td>Нейтральный</td>\n      <td>0</td>\n    </tr>\n  </tbody>\n</table>\n<p>12683 rows × 7 columns</p>\n</div>"
     },
     "execution_count": 67,
     "metadata": {},
     "output_type": "execute_result"
    }
   ],
   "source": [
    "def convert_unix_to_datetime(unix_time):\n",
    "    return (unix_time+3*60*60)%86400//3600\n",
    "\n",
    "# Применение функции к столбцу 'date'\n",
    "df2['datetime'] = df2['date'].apply(convert_unix_to_datetime)\n",
    "\n",
    "\n",
    "df2"
   ],
   "metadata": {
    "collapsed": false,
    "ExecuteTime": {
     "end_time": "2023-12-19T14:26:44.547125900Z",
     "start_time": "2023-12-19T14:26:44.508143700Z"
    }
   }
  },
  {
   "cell_type": "code",
   "execution_count": 68,
   "outputs": [
    {
     "data": {
      "text/plain": "datetime\n12    999\n14    913\n22    825\n16    785\n0     730\n23    721\n15    721\n13    710\n11    700\n17    694\n18    653\n21    645\n10    644\n20    584\n9     551\n19    494\n8     350\n7     258\n1     212\n2     142\n6     104\n4      85\n5      82\n3      81\nName: count, dtype: int64"
     },
     "execution_count": 68,
     "metadata": {},
     "output_type": "execute_result"
    }
   ],
   "source": [
    "time_of_day_counts = df2['datetime'].value_counts()\n",
    "time_of_day_counts"
   ],
   "metadata": {
    "collapsed": false,
    "ExecuteTime": {
     "end_time": "2023-12-19T14:26:52.506472400Z",
     "start_time": "2023-12-19T14:26:52.492153500Z"
    }
   }
  },
  {
   "cell_type": "code",
   "execution_count": 78,
   "outputs": [
    {
     "ename": "TypeError",
     "evalue": "float() argument must be a string or a real number, not 'NoneType'",
     "output_type": "error",
     "traceback": [
      "\u001B[1;31m---------------------------------------------------------------------------\u001B[0m",
      "\u001B[1;31mTypeError\u001B[0m                                 Traceback (most recent call last)",
      "Cell \u001B[1;32mIn[78], line 7\u001B[0m\n\u001B[0;32m      5\u001B[0m df3\n\u001B[0;32m      6\u001B[0m \u001B[38;5;66;03m# plt.figure(figsize=(10, 6))\u001B[39;00m\n\u001B[1;32m----> 7\u001B[0m \u001B[43mplt\u001B[49m\u001B[38;5;241;43m.\u001B[39;49m\u001B[43mbar\u001B[49m\u001B[43m(\u001B[49m\u001B[43mdf3\u001B[49m\u001B[43m,\u001B[49m\u001B[43mheight\u001B[49m\u001B[38;5;241;43m=\u001B[39;49m\u001B[38;5;241;43m0.8\u001B[39;49m\u001B[43m,\u001B[49m\u001B[43m \u001B[49m\u001B[43mcolor\u001B[49m\u001B[38;5;241;43m=\u001B[39;49m\u001B[38;5;124;43m'\u001B[39;49m\u001B[38;5;124;43mblue\u001B[39;49m\u001B[38;5;124;43m'\u001B[39;49m\u001B[43m,\u001B[49m\u001B[43m \u001B[49m\u001B[43medgecolor\u001B[49m\u001B[38;5;241;43m=\u001B[39;49m\u001B[38;5;124;43m'\u001B[39;49m\u001B[38;5;124;43mblack\u001B[39;49m\u001B[38;5;124;43m'\u001B[39;49m\u001B[43m)\u001B[49m\n\u001B[0;32m      8\u001B[0m \u001B[38;5;66;03m#\u001B[39;00m\n\u001B[0;32m      9\u001B[0m \u001B[38;5;66;03m# plt.xlabel('Дата')\u001B[39;00m\n\u001B[0;32m     10\u001B[0m \u001B[38;5;66;03m# plt.ylabel('Количество')\u001B[39;00m\n\u001B[0;32m     11\u001B[0m \u001B[38;5;66;03m# plt.title('Гистограмма по времени')\u001B[39;00m\n\u001B[0;32m     12\u001B[0m \u001B[38;5;66;03m#\u001B[39;00m\n\u001B[0;32m     13\u001B[0m \u001B[38;5;66;03m# # Отображение гистограммы\u001B[39;00m\n\u001B[0;32m     14\u001B[0m plt\u001B[38;5;241m.\u001B[39mshow()\n",
      "File \u001B[1;32mE:\\Desktop\\Python\\bigDannie\\venv\\Lib\\site-packages\\matplotlib\\pyplot.py:2742\u001B[0m, in \u001B[0;36mbar\u001B[1;34m(x, height, width, bottom, align, data, **kwargs)\u001B[0m\n\u001B[0;32m   2731\u001B[0m \u001B[38;5;129m@_copy_docstring_and_deprecators\u001B[39m(Axes\u001B[38;5;241m.\u001B[39mbar)\n\u001B[0;32m   2732\u001B[0m \u001B[38;5;28;01mdef\u001B[39;00m \u001B[38;5;21mbar\u001B[39m(\n\u001B[0;32m   2733\u001B[0m     x: \u001B[38;5;28mfloat\u001B[39m \u001B[38;5;241m|\u001B[39m ArrayLike,\n\u001B[1;32m   (...)\u001B[0m\n\u001B[0;32m   2740\u001B[0m     \u001B[38;5;241m*\u001B[39m\u001B[38;5;241m*\u001B[39mkwargs,\n\u001B[0;32m   2741\u001B[0m ) \u001B[38;5;241m-\u001B[39m\u001B[38;5;241m>\u001B[39m BarContainer:\n\u001B[1;32m-> 2742\u001B[0m     \u001B[38;5;28;01mreturn\u001B[39;00m \u001B[43mgca\u001B[49m\u001B[43m(\u001B[49m\u001B[43m)\u001B[49m\u001B[38;5;241;43m.\u001B[39;49m\u001B[43mbar\u001B[49m\u001B[43m(\u001B[49m\n\u001B[0;32m   2743\u001B[0m \u001B[43m        \u001B[49m\u001B[43mx\u001B[49m\u001B[43m,\u001B[49m\n\u001B[0;32m   2744\u001B[0m \u001B[43m        \u001B[49m\u001B[43mheight\u001B[49m\u001B[43m,\u001B[49m\n\u001B[0;32m   2745\u001B[0m \u001B[43m        \u001B[49m\u001B[43mwidth\u001B[49m\u001B[38;5;241;43m=\u001B[39;49m\u001B[43mwidth\u001B[49m\u001B[43m,\u001B[49m\n\u001B[0;32m   2746\u001B[0m \u001B[43m        \u001B[49m\u001B[43mbottom\u001B[49m\u001B[38;5;241;43m=\u001B[39;49m\u001B[43mbottom\u001B[49m\u001B[43m,\u001B[49m\n\u001B[0;32m   2747\u001B[0m \u001B[43m        \u001B[49m\u001B[43malign\u001B[49m\u001B[38;5;241;43m=\u001B[39;49m\u001B[43malign\u001B[49m\u001B[43m,\u001B[49m\n\u001B[0;32m   2748\u001B[0m \u001B[43m        \u001B[49m\u001B[38;5;241;43m*\u001B[39;49m\u001B[38;5;241;43m*\u001B[39;49m\u001B[43m(\u001B[49m\u001B[43m{\u001B[49m\u001B[38;5;124;43m\"\u001B[39;49m\u001B[38;5;124;43mdata\u001B[39;49m\u001B[38;5;124;43m\"\u001B[39;49m\u001B[43m:\u001B[49m\u001B[43m \u001B[49m\u001B[43mdata\u001B[49m\u001B[43m}\u001B[49m\u001B[43m \u001B[49m\u001B[38;5;28;43;01mif\u001B[39;49;00m\u001B[43m \u001B[49m\u001B[43mdata\u001B[49m\u001B[43m \u001B[49m\u001B[38;5;129;43;01mis\u001B[39;49;00m\u001B[43m \u001B[49m\u001B[38;5;129;43;01mnot\u001B[39;49;00m\u001B[43m \u001B[49m\u001B[38;5;28;43;01mNone\u001B[39;49;00m\u001B[43m \u001B[49m\u001B[38;5;28;43;01melse\u001B[39;49;00m\u001B[43m \u001B[49m\u001B[43m{\u001B[49m\u001B[43m}\u001B[49m\u001B[43m)\u001B[49m\u001B[43m,\u001B[49m\n\u001B[0;32m   2749\u001B[0m \u001B[43m        \u001B[49m\u001B[38;5;241;43m*\u001B[39;49m\u001B[38;5;241;43m*\u001B[39;49m\u001B[43mkwargs\u001B[49m\u001B[43m,\u001B[49m\n\u001B[0;32m   2750\u001B[0m \u001B[43m    \u001B[49m\u001B[43m)\u001B[49m\n",
      "File \u001B[1;32mE:\\Desktop\\Python\\bigDannie\\venv\\Lib\\site-packages\\matplotlib\\__init__.py:1478\u001B[0m, in \u001B[0;36m_preprocess_data.<locals>.inner\u001B[1;34m(ax, data, *args, **kwargs)\u001B[0m\n\u001B[0;32m   1475\u001B[0m \u001B[38;5;129m@functools\u001B[39m\u001B[38;5;241m.\u001B[39mwraps(func)\n\u001B[0;32m   1476\u001B[0m \u001B[38;5;28;01mdef\u001B[39;00m \u001B[38;5;21minner\u001B[39m(ax, \u001B[38;5;241m*\u001B[39margs, data\u001B[38;5;241m=\u001B[39m\u001B[38;5;28;01mNone\u001B[39;00m, \u001B[38;5;241m*\u001B[39m\u001B[38;5;241m*\u001B[39mkwargs):\n\u001B[0;32m   1477\u001B[0m     \u001B[38;5;28;01mif\u001B[39;00m data \u001B[38;5;129;01mis\u001B[39;00m \u001B[38;5;28;01mNone\u001B[39;00m:\n\u001B[1;32m-> 1478\u001B[0m         \u001B[38;5;28;01mreturn\u001B[39;00m \u001B[43mfunc\u001B[49m\u001B[43m(\u001B[49m\u001B[43max\u001B[49m\u001B[43m,\u001B[49m\u001B[43m \u001B[49m\u001B[38;5;241;43m*\u001B[39;49m\u001B[38;5;28;43mmap\u001B[39;49m\u001B[43m(\u001B[49m\u001B[43msanitize_sequence\u001B[49m\u001B[43m,\u001B[49m\u001B[43m \u001B[49m\u001B[43margs\u001B[49m\u001B[43m)\u001B[49m\u001B[43m,\u001B[49m\u001B[43m \u001B[49m\u001B[38;5;241;43m*\u001B[39;49m\u001B[38;5;241;43m*\u001B[39;49m\u001B[43mkwargs\u001B[49m\u001B[43m)\u001B[49m\n\u001B[0;32m   1480\u001B[0m     bound \u001B[38;5;241m=\u001B[39m new_sig\u001B[38;5;241m.\u001B[39mbind(ax, \u001B[38;5;241m*\u001B[39margs, \u001B[38;5;241m*\u001B[39m\u001B[38;5;241m*\u001B[39mkwargs)\n\u001B[0;32m   1481\u001B[0m     auto_label \u001B[38;5;241m=\u001B[39m (bound\u001B[38;5;241m.\u001B[39marguments\u001B[38;5;241m.\u001B[39mget(label_namer)\n\u001B[0;32m   1482\u001B[0m                   \u001B[38;5;129;01mor\u001B[39;00m bound\u001B[38;5;241m.\u001B[39mkwargs\u001B[38;5;241m.\u001B[39mget(label_namer))\n",
      "File \u001B[1;32mE:\\Desktop\\Python\\bigDannie\\venv\\Lib\\site-packages\\matplotlib\\axes\\_axes.py:2520\u001B[0m, in \u001B[0;36mAxes.bar\u001B[1;34m(self, x, height, width, bottom, align, **kwargs)\u001B[0m\n\u001B[0;32m   2517\u001B[0m args \u001B[38;5;241m=\u001B[39m \u001B[38;5;28mzip\u001B[39m(left, bottom, width, height, color, edgecolor, linewidth,\n\u001B[0;32m   2518\u001B[0m            hatch, patch_labels)\n\u001B[0;32m   2519\u001B[0m \u001B[38;5;28;01mfor\u001B[39;00m l, b, w, h, c, e, lw, htch, lbl \u001B[38;5;129;01min\u001B[39;00m args:\n\u001B[1;32m-> 2520\u001B[0m     r \u001B[38;5;241m=\u001B[39m \u001B[43mmpatches\u001B[49m\u001B[38;5;241;43m.\u001B[39;49m\u001B[43mRectangle\u001B[49m\u001B[43m(\u001B[49m\n\u001B[0;32m   2521\u001B[0m \u001B[43m        \u001B[49m\u001B[43mxy\u001B[49m\u001B[38;5;241;43m=\u001B[39;49m\u001B[43m(\u001B[49m\u001B[43ml\u001B[49m\u001B[43m,\u001B[49m\u001B[43m \u001B[49m\u001B[43mb\u001B[49m\u001B[43m)\u001B[49m\u001B[43m,\u001B[49m\u001B[43m \u001B[49m\u001B[43mwidth\u001B[49m\u001B[38;5;241;43m=\u001B[39;49m\u001B[43mw\u001B[49m\u001B[43m,\u001B[49m\u001B[43m \u001B[49m\u001B[43mheight\u001B[49m\u001B[38;5;241;43m=\u001B[39;49m\u001B[43mh\u001B[49m\u001B[43m,\u001B[49m\n\u001B[0;32m   2522\u001B[0m \u001B[43m        \u001B[49m\u001B[43mfacecolor\u001B[49m\u001B[38;5;241;43m=\u001B[39;49m\u001B[43mc\u001B[49m\u001B[43m,\u001B[49m\n\u001B[0;32m   2523\u001B[0m \u001B[43m        \u001B[49m\u001B[43medgecolor\u001B[49m\u001B[38;5;241;43m=\u001B[39;49m\u001B[43me\u001B[49m\u001B[43m,\u001B[49m\n\u001B[0;32m   2524\u001B[0m \u001B[43m        \u001B[49m\u001B[43mlinewidth\u001B[49m\u001B[38;5;241;43m=\u001B[39;49m\u001B[43mlw\u001B[49m\u001B[43m,\u001B[49m\n\u001B[0;32m   2525\u001B[0m \u001B[43m        \u001B[49m\u001B[43mlabel\u001B[49m\u001B[38;5;241;43m=\u001B[39;49m\u001B[43mlbl\u001B[49m\u001B[43m,\u001B[49m\n\u001B[0;32m   2526\u001B[0m \u001B[43m        \u001B[49m\u001B[43mhatch\u001B[49m\u001B[38;5;241;43m=\u001B[39;49m\u001B[43mhtch\u001B[49m\u001B[43m,\u001B[49m\n\u001B[0;32m   2527\u001B[0m \u001B[43m        \u001B[49m\u001B[43m)\u001B[49m\n\u001B[0;32m   2528\u001B[0m     r\u001B[38;5;241m.\u001B[39m_internal_update(kwargs)\n\u001B[0;32m   2529\u001B[0m     r\u001B[38;5;241m.\u001B[39mget_path()\u001B[38;5;241m.\u001B[39m_interpolation_steps \u001B[38;5;241m=\u001B[39m \u001B[38;5;241m100\u001B[39m\n",
      "File \u001B[1;32mE:\\Desktop\\Python\\bigDannie\\venv\\Lib\\site-packages\\matplotlib\\patches.py:718\u001B[0m, in \u001B[0;36mRectangle.__init__\u001B[1;34m(self, xy, width, height, angle, rotation_point, **kwargs)\u001B[0m\n\u001B[0;32m    694\u001B[0m \u001B[38;5;129m@_docstring\u001B[39m\u001B[38;5;241m.\u001B[39mdedent_interpd\n\u001B[0;32m    695\u001B[0m \u001B[38;5;28;01mdef\u001B[39;00m \u001B[38;5;21m__init__\u001B[39m(\u001B[38;5;28mself\u001B[39m, xy, width, height, \u001B[38;5;241m*\u001B[39m,\n\u001B[0;32m    696\u001B[0m              angle\u001B[38;5;241m=\u001B[39m\u001B[38;5;241m0.0\u001B[39m, rotation_point\u001B[38;5;241m=\u001B[39m\u001B[38;5;124m'\u001B[39m\u001B[38;5;124mxy\u001B[39m\u001B[38;5;124m'\u001B[39m, \u001B[38;5;241m*\u001B[39m\u001B[38;5;241m*\u001B[39mkwargs):\n\u001B[0;32m    697\u001B[0m \u001B[38;5;250m    \u001B[39m\u001B[38;5;124;03m\"\"\"\u001B[39;00m\n\u001B[0;32m    698\u001B[0m \u001B[38;5;124;03m    Parameters\u001B[39;00m\n\u001B[0;32m    699\u001B[0m \u001B[38;5;124;03m    ----------\u001B[39;00m\n\u001B[1;32m   (...)\u001B[0m\n\u001B[0;32m    716\u001B[0m \u001B[38;5;124;03m        %(Patch:kwdoc)s\u001B[39;00m\n\u001B[0;32m    717\u001B[0m \u001B[38;5;124;03m    \"\"\"\u001B[39;00m\n\u001B[1;32m--> 718\u001B[0m     \u001B[38;5;28;43msuper\u001B[39;49m\u001B[43m(\u001B[49m\u001B[43m)\u001B[49m\u001B[38;5;241;43m.\u001B[39;49m\u001B[38;5;21;43m__init__\u001B[39;49m\u001B[43m(\u001B[49m\u001B[38;5;241;43m*\u001B[39;49m\u001B[38;5;241;43m*\u001B[39;49m\u001B[43mkwargs\u001B[49m\u001B[43m)\u001B[49m\n\u001B[0;32m    719\u001B[0m     \u001B[38;5;28mself\u001B[39m\u001B[38;5;241m.\u001B[39m_x0 \u001B[38;5;241m=\u001B[39m xy[\u001B[38;5;241m0\u001B[39m]\n\u001B[0;32m    720\u001B[0m     \u001B[38;5;28mself\u001B[39m\u001B[38;5;241m.\u001B[39m_y0 \u001B[38;5;241m=\u001B[39m xy[\u001B[38;5;241m1\u001B[39m]\n",
      "File \u001B[1;32mE:\\Desktop\\Python\\bigDannie\\venv\\Lib\\site-packages\\matplotlib\\patches.py:91\u001B[0m, in \u001B[0;36mPatch.__init__\u001B[1;34m(self, edgecolor, facecolor, color, linewidth, linestyle, antialiased, hatch, fill, capstyle, joinstyle, **kwargs)\u001B[0m\n\u001B[0;32m     88\u001B[0m \u001B[38;5;28mself\u001B[39m\u001B[38;5;241m.\u001B[39m_dash_pattern \u001B[38;5;241m=\u001B[39m (\u001B[38;5;241m0\u001B[39m, \u001B[38;5;28;01mNone\u001B[39;00m)  \u001B[38;5;66;03m# offset, dash (scaled by linewidth)\u001B[39;00m\n\u001B[0;32m     90\u001B[0m \u001B[38;5;28mself\u001B[39m\u001B[38;5;241m.\u001B[39mset_linestyle(linestyle)\n\u001B[1;32m---> 91\u001B[0m \u001B[38;5;28;43mself\u001B[39;49m\u001B[38;5;241;43m.\u001B[39;49m\u001B[43mset_linewidth\u001B[49m\u001B[43m(\u001B[49m\u001B[43mlinewidth\u001B[49m\u001B[43m)\u001B[49m\n\u001B[0;32m     92\u001B[0m \u001B[38;5;28mself\u001B[39m\u001B[38;5;241m.\u001B[39mset_antialiased(antialiased)\n\u001B[0;32m     93\u001B[0m \u001B[38;5;28mself\u001B[39m\u001B[38;5;241m.\u001B[39mset_hatch(hatch)\n",
      "File \u001B[1;32mE:\\Desktop\\Python\\bigDannie\\venv\\Lib\\site-packages\\matplotlib\\patches.py:391\u001B[0m, in \u001B[0;36mPatch.set_linewidth\u001B[1;34m(self, w)\u001B[0m\n\u001B[0;32m    389\u001B[0m \u001B[38;5;28;01mif\u001B[39;00m w \u001B[38;5;129;01mis\u001B[39;00m \u001B[38;5;28;01mNone\u001B[39;00m:\n\u001B[0;32m    390\u001B[0m     w \u001B[38;5;241m=\u001B[39m mpl\u001B[38;5;241m.\u001B[39mrcParams[\u001B[38;5;124m'\u001B[39m\u001B[38;5;124mpatch.linewidth\u001B[39m\u001B[38;5;124m'\u001B[39m]\n\u001B[1;32m--> 391\u001B[0m \u001B[38;5;28mself\u001B[39m\u001B[38;5;241m.\u001B[39m_linewidth \u001B[38;5;241m=\u001B[39m \u001B[38;5;28mfloat\u001B[39m(w)\n\u001B[0;32m    392\u001B[0m \u001B[38;5;28mself\u001B[39m\u001B[38;5;241m.\u001B[39m_dash_pattern \u001B[38;5;241m=\u001B[39m mlines\u001B[38;5;241m.\u001B[39m_scale_dashes(\n\u001B[0;32m    393\u001B[0m     \u001B[38;5;241m*\u001B[39m\u001B[38;5;28mself\u001B[39m\u001B[38;5;241m.\u001B[39m_unscaled_dash_pattern, w)\n\u001B[0;32m    394\u001B[0m \u001B[38;5;28mself\u001B[39m\u001B[38;5;241m.\u001B[39mstale \u001B[38;5;241m=\u001B[39m \u001B[38;5;28;01mTrue\u001B[39;00m\n",
      "\u001B[1;31mTypeError\u001B[0m: float() argument must be a string or a real number, not 'NoneType'"
     ]
    },
    {
     "data": {
      "text/plain": "<Figure size 640x480 with 1 Axes>",
      "image/png": "[encoded data removed]"
     },
     "metadata": {},
     "output_type": "display_data"
    }
   ],
   "source": [
    "# Добавление меток и заголовка\n",
    "import matplotlib.pyplot as plt\n",
    "# Создание гистограммы\n",
    "df3=pd.DataFrame(time_of_day_counts)\n",
    "df3\n",
    "# plt.figure(figsize=(10, 6))\n",
    "plt.bar(df3,height=0.8, color='blue', edgecolor='black')\n",
    "#\n",
    "# plt.xlabel('Дата')\n",
    "# plt.ylabel('Количество')\n",
    "# plt.title('Гистограмма по времени')\n",
    "#\n",
    "# # Отображение гистограммы\n",
    "plt.show()"
   ],
   "metadata": {
    "collapsed": false,
    "ExecuteTime": {
     "end_time": "2023-12-19T14:43:54.924784500Z",
     "start_time": "2023-12-19T14:43:54.712685300Z"
    }
   }
  },
  {
   "cell_type": "code",
   "execution_count": null,
   "outputs": [],
   "source": [],
   "metadata": {
    "collapsed": false
   }
  }
 ],
 "metadata": {
  "kernelspec": {
   "display_name": "Python 3",
   "language": "python",
   "name": "python3"
  },
  "language_info": {
   "codemirror_mode": {
    "name": "ipython",
    "version": 2
   },
   "file_extension": ".py",
   "mimetype": "text/x-python",
   "name": "python",
   "nbconvert_exporter": "python",
   "pygments_lexer": "ipython2",
   "version": "2.7.6"
  }
 },
 "nbformat": 4,
 "nbformat_minor": 0
}
